{
 "cells": [
  {
   "cell_type": "code",
   "execution_count": 1,
   "id": "88c60328-4cd7-4942-9555-2f1f7aa4308f",
   "metadata": {},
   "outputs": [],
   "source": [
    "import pandas as pd"
   ]
  },
  {
   "cell_type": "code",
   "execution_count": 2,
   "id": "b754a2bc-2347-4e28-b618-3185ce9ef6f5",
   "metadata": {},
   "outputs": [],
   "source": [
    "demography = pd.read_csv('../GlobalEconomy dataset/data/demographics.csv')"
   ]
  },
  {
   "cell_type": "code",
   "execution_count": 3,
   "id": "74a6ab42-d2d5-4a28-a4ca-c228d199d62a",
   "metadata": {},
   "outputs": [],
   "source": [
    "economic_freedom_indexes = pd.read_csv('../GlobalEconomy dataset/data/economic_freedom_indexes.csv')"
   ]
  },
  {
   "cell_type": "code",
   "execution_count": 4,
   "id": "16b939ba-56e1-4175-b44f-6e0e04765994",
   "metadata": {},
   "outputs": [],
   "source": [
    "gdp_and_economic_growth = pd.read_csv('../GlobalEconomy dataset/data/gdp_and_economic_growth.csv')"
   ]
  },
  {
   "cell_type": "code",
   "execution_count": 5,
   "id": "b4b85429-875a-401a-9ff9-a5f07588a72e",
   "metadata": {},
   "outputs": [],
   "source": [
    "government_and_business_environement = pd.read_csv('../GlobalEconomy dataset/data/government_and_business_environement.csv')"
   ]
  },
  {
   "cell_type": "code",
   "execution_count": 8,
   "id": "938b5949-4fc2-437f-98f4-9515aba019bb",
   "metadata": {},
   "outputs": [],
   "source": [
    "political_system = pd.read_csv('../GlobalEconomy dataset/data/political_system.csv')"
   ]
  },
  {
   "cell_type": "code",
   "execution_count": 7,
   "id": "d36919b9-2661-4199-971e-85939f23fbdb",
   "metadata": {},
   "outputs": [],
   "source": [
    "shares_of_world_totals = pd.read_csv('../GlobalEconomy dataset/data/shares_of_world_totals.csv')"
   ]
  },
  {
   "cell_type": "code",
   "execution_count": 11,
   "id": "a7921060-b239-4775-a292-e160016a8c26",
   "metadata": {},
   "outputs": [],
   "source": [
    "demography.columns = ['country', 'code', 'continentcode', 'year',\n",
    "       'population_size_in_millions', 'percent_urban_population',\n",
    "       'population_density_people_per_square_km',\n",
    "       'population_ages_65_and_above_percent_of_total',\n",
    "       'population_ages_0-14-percent_of_total',\n",
    "       'pemale_population_percent_of_total',\n",
    "       'rural_population_percent_of_total_population',\n",
    "       'dependent_people_as_percent_of_the_working_age_population',\n",
    "       'refugee_population', 'migrant_population_percent_of_total_population',\n",
    "       'population_growth_percent']"
   ]
  },
  {
   "cell_type": "code",
   "execution_count": 15,
   "id": "19103c1c-8415-4319-aafd-2d1a6efea9e6",
   "metadata": {},
   "outputs": [
    {
     "data": {
      "text/html": [
       "<div>\n",
       "<style scoped>\n",
       "    .dataframe tbody tr th:only-of-type {\n",
       "        vertical-align: middle;\n",
       "    }\n",
       "\n",
       "    .dataframe tbody tr th {\n",
       "        vertical-align: top;\n",
       "    }\n",
       "\n",
       "    .dataframe thead th {\n",
       "        text-align: right;\n",
       "    }\n",
       "</style>\n",
       "<table border=\"1\" class=\"dataframe\">\n",
       "  <thead>\n",
       "    <tr style=\"text-align: right;\">\n",
       "      <th></th>\n",
       "      <th>country</th>\n",
       "      <th>code</th>\n",
       "      <th>continentcode</th>\n",
       "      <th>year</th>\n",
       "      <th>population_size_in_millions</th>\n",
       "      <th>percent_urban_population</th>\n",
       "      <th>population_density_people_per_square_km</th>\n",
       "      <th>population_ages_65_and_above_percent_of_total</th>\n",
       "      <th>population_ages_0-14-percent_of_total</th>\n",
       "      <th>pemale_population_percent_of_total</th>\n",
       "      <th>rural_population_percent_of_total_population</th>\n",
       "      <th>dependent_people_as_percent_of_the_working_age_population</th>\n",
       "      <th>refugee_population</th>\n",
       "      <th>migrant_population_percent_of_total_population</th>\n",
       "      <th>population_growth_percent</th>\n",
       "    </tr>\n",
       "  </thead>\n",
       "  <tbody>\n",
       "    <tr>\n",
       "      <th>44</th>\n",
       "      <td>Afghanistan</td>\n",
       "      <td>AFG</td>\n",
       "      <td>AS</td>\n",
       "      <td>2004</td>\n",
       "      <td>23.55</td>\n",
       "      <td>22.50</td>\n",
       "      <td>36.0</td>\n",
       "      <td>2.30</td>\n",
       "      <td>49.92</td>\n",
       "      <td>49.64</td>\n",
       "      <td>77.50</td>\n",
       "      <td>109.29</td>\n",
       "      <td>31.0</td>\n",
       "      <td>NaN</td>\n",
       "      <td>3.93</td>\n",
       "    </tr>\n",
       "    <tr>\n",
       "      <th>45</th>\n",
       "      <td>Afghanistan</td>\n",
       "      <td>AFG</td>\n",
       "      <td>AS</td>\n",
       "      <td>2005</td>\n",
       "      <td>24.41</td>\n",
       "      <td>22.70</td>\n",
       "      <td>37.0</td>\n",
       "      <td>2.30</td>\n",
       "      <td>49.62</td>\n",
       "      <td>49.60</td>\n",
       "      <td>77.30</td>\n",
       "      <td>107.96</td>\n",
       "      <td>31.0</td>\n",
       "      <td>NaN</td>\n",
       "      <td>3.58</td>\n",
       "    </tr>\n",
       "    <tr>\n",
       "      <th>46</th>\n",
       "      <td>Afghanistan</td>\n",
       "      <td>AFG</td>\n",
       "      <td>AS</td>\n",
       "      <td>2006</td>\n",
       "      <td>25.44</td>\n",
       "      <td>22.91</td>\n",
       "      <td>39.0</td>\n",
       "      <td>2.30</td>\n",
       "      <td>49.23</td>\n",
       "      <td>49.58</td>\n",
       "      <td>77.09</td>\n",
       "      <td>106.33</td>\n",
       "      <td>34.0</td>\n",
       "      <td>NaN</td>\n",
       "      <td>4.14</td>\n",
       "    </tr>\n",
       "    <tr>\n",
       "      <th>47</th>\n",
       "      <td>Afghanistan</td>\n",
       "      <td>AFG</td>\n",
       "      <td>AS</td>\n",
       "      <td>2007</td>\n",
       "      <td>25.90</td>\n",
       "      <td>23.11</td>\n",
       "      <td>40.0</td>\n",
       "      <td>2.31</td>\n",
       "      <td>49.70</td>\n",
       "      <td>49.55</td>\n",
       "      <td>76.89</td>\n",
       "      <td>108.34</td>\n",
       "      <td>43.0</td>\n",
       "      <td>NaN</td>\n",
       "      <td>1.79</td>\n",
       "    </tr>\n",
       "    <tr>\n",
       "      <th>48</th>\n",
       "      <td>Afghanistan</td>\n",
       "      <td>AFG</td>\n",
       "      <td>AS</td>\n",
       "      <td>2008</td>\n",
       "      <td>26.43</td>\n",
       "      <td>23.32</td>\n",
       "      <td>41.0</td>\n",
       "      <td>2.32</td>\n",
       "      <td>49.89</td>\n",
       "      <td>49.53</td>\n",
       "      <td>76.68</td>\n",
       "      <td>109.24</td>\n",
       "      <td>37.0</td>\n",
       "      <td>NaN</td>\n",
       "      <td>2.00</td>\n",
       "    </tr>\n",
       "    <tr>\n",
       "      <th>...</th>\n",
       "      <td>...</td>\n",
       "      <td>...</td>\n",
       "      <td>...</td>\n",
       "      <td>...</td>\n",
       "      <td>...</td>\n",
       "      <td>...</td>\n",
       "      <td>...</td>\n",
       "      <td>...</td>\n",
       "      <td>...</td>\n",
       "      <td>...</td>\n",
       "      <td>...</td>\n",
       "      <td>...</td>\n",
       "      <td>...</td>\n",
       "      <td>...</td>\n",
       "      <td>...</td>\n",
       "    </tr>\n",
       "    <tr>\n",
       "      <th>12343</th>\n",
       "      <td>Zimbabwe</td>\n",
       "      <td>ZWE</td>\n",
       "      <td>AF</td>\n",
       "      <td>2018</td>\n",
       "      <td>15.05</td>\n",
       "      <td>32.21</td>\n",
       "      <td>39.0</td>\n",
       "      <td>3.29</td>\n",
       "      <td>41.80</td>\n",
       "      <td>52.92</td>\n",
       "      <td>67.79</td>\n",
       "      <td>82.12</td>\n",
       "      <td>7795.0</td>\n",
       "      <td>NaN</td>\n",
       "      <td>2.02</td>\n",
       "    </tr>\n",
       "    <tr>\n",
       "      <th>12344</th>\n",
       "      <td>Zimbabwe</td>\n",
       "      <td>ZWE</td>\n",
       "      <td>AF</td>\n",
       "      <td>2019</td>\n",
       "      <td>15.35</td>\n",
       "      <td>32.21</td>\n",
       "      <td>40.0</td>\n",
       "      <td>3.35</td>\n",
       "      <td>41.47</td>\n",
       "      <td>52.90</td>\n",
       "      <td>67.79</td>\n",
       "      <td>81.21</td>\n",
       "      <td>8956.0</td>\n",
       "      <td>NaN</td>\n",
       "      <td>1.99</td>\n",
       "    </tr>\n",
       "    <tr>\n",
       "      <th>12345</th>\n",
       "      <td>Zimbabwe</td>\n",
       "      <td>ZWE</td>\n",
       "      <td>AF</td>\n",
       "      <td>2020</td>\n",
       "      <td>15.67</td>\n",
       "      <td>32.24</td>\n",
       "      <td>41.0</td>\n",
       "      <td>3.38</td>\n",
       "      <td>41.16</td>\n",
       "      <td>52.87</td>\n",
       "      <td>67.76</td>\n",
       "      <td>80.29</td>\n",
       "      <td>9261.0</td>\n",
       "      <td>NaN</td>\n",
       "      <td>2.03</td>\n",
       "    </tr>\n",
       "    <tr>\n",
       "      <th>12346</th>\n",
       "      <td>Zimbabwe</td>\n",
       "      <td>ZWE</td>\n",
       "      <td>AF</td>\n",
       "      <td>2021</td>\n",
       "      <td>15.99</td>\n",
       "      <td>32.30</td>\n",
       "      <td>41.0</td>\n",
       "      <td>3.36</td>\n",
       "      <td>40.89</td>\n",
       "      <td>52.83</td>\n",
       "      <td>67.70</td>\n",
       "      <td>79.39</td>\n",
       "      <td>9483.0</td>\n",
       "      <td>NaN</td>\n",
       "      <td>2.05</td>\n",
       "    </tr>\n",
       "    <tr>\n",
       "      <th>12347</th>\n",
       "      <td>Zimbabwe</td>\n",
       "      <td>ZWE</td>\n",
       "      <td>AF</td>\n",
       "      <td>2022</td>\n",
       "      <td>16.32</td>\n",
       "      <td>32.40</td>\n",
       "      <td>NaN</td>\n",
       "      <td>3.32</td>\n",
       "      <td>40.63</td>\n",
       "      <td>52.79</td>\n",
       "      <td>67.61</td>\n",
       "      <td>78.43</td>\n",
       "      <td>10475.0</td>\n",
       "      <td>NaN</td>\n",
       "      <td>2.02</td>\n",
       "    </tr>\n",
       "  </tbody>\n",
       "</table>\n",
       "<p>3724 rows × 15 columns</p>\n",
       "</div>"
      ],
      "text/plain": [
       "           country code continentcode  year  population_size_in_millions  \\\n",
       "44     Afghanistan  AFG            AS  2004                        23.55   \n",
       "45     Afghanistan  AFG            AS  2005                        24.41   \n",
       "46     Afghanistan  AFG            AS  2006                        25.44   \n",
       "47     Afghanistan  AFG            AS  2007                        25.90   \n",
       "48     Afghanistan  AFG            AS  2008                        26.43   \n",
       "...            ...  ...           ...   ...                          ...   \n",
       "12343     Zimbabwe  ZWE            AF  2018                        15.05   \n",
       "12344     Zimbabwe  ZWE            AF  2019                        15.35   \n",
       "12345     Zimbabwe  ZWE            AF  2020                        15.67   \n",
       "12346     Zimbabwe  ZWE            AF  2021                        15.99   \n",
       "12347     Zimbabwe  ZWE            AF  2022                        16.32   \n",
       "\n",
       "       percent_urban_population  population_density_people_per_square_km  \\\n",
       "44                        22.50                                     36.0   \n",
       "45                        22.70                                     37.0   \n",
       "46                        22.91                                     39.0   \n",
       "47                        23.11                                     40.0   \n",
       "48                        23.32                                     41.0   \n",
       "...                         ...                                      ...   \n",
       "12343                     32.21                                     39.0   \n",
       "12344                     32.21                                     40.0   \n",
       "12345                     32.24                                     41.0   \n",
       "12346                     32.30                                     41.0   \n",
       "12347                     32.40                                      NaN   \n",
       "\n",
       "       population_ages_65_and_above_percent_of_total  \\\n",
       "44                                              2.30   \n",
       "45                                              2.30   \n",
       "46                                              2.30   \n",
       "47                                              2.31   \n",
       "48                                              2.32   \n",
       "...                                              ...   \n",
       "12343                                           3.29   \n",
       "12344                                           3.35   \n",
       "12345                                           3.38   \n",
       "12346                                           3.36   \n",
       "12347                                           3.32   \n",
       "\n",
       "       population_ages_0-14-percent_of_total  \\\n",
       "44                                     49.92   \n",
       "45                                     49.62   \n",
       "46                                     49.23   \n",
       "47                                     49.70   \n",
       "48                                     49.89   \n",
       "...                                      ...   \n",
       "12343                                  41.80   \n",
       "12344                                  41.47   \n",
       "12345                                  41.16   \n",
       "12346                                  40.89   \n",
       "12347                                  40.63   \n",
       "\n",
       "       pemale_population_percent_of_total  \\\n",
       "44                                  49.64   \n",
       "45                                  49.60   \n",
       "46                                  49.58   \n",
       "47                                  49.55   \n",
       "48                                  49.53   \n",
       "...                                   ...   \n",
       "12343                               52.92   \n",
       "12344                               52.90   \n",
       "12345                               52.87   \n",
       "12346                               52.83   \n",
       "12347                               52.79   \n",
       "\n",
       "       rural_population_percent_of_total_population  \\\n",
       "44                                            77.50   \n",
       "45                                            77.30   \n",
       "46                                            77.09   \n",
       "47                                            76.89   \n",
       "48                                            76.68   \n",
       "...                                             ...   \n",
       "12343                                         67.79   \n",
       "12344                                         67.79   \n",
       "12345                                         67.76   \n",
       "12346                                         67.70   \n",
       "12347                                         67.61   \n",
       "\n",
       "       dependent_people_as_percent_of_the_working_age_population  \\\n",
       "44                                                109.29           \n",
       "45                                                107.96           \n",
       "46                                                106.33           \n",
       "47                                                108.34           \n",
       "48                                                109.24           \n",
       "...                                                  ...           \n",
       "12343                                              82.12           \n",
       "12344                                              81.21           \n",
       "12345                                              80.29           \n",
       "12346                                              79.39           \n",
       "12347                                              78.43           \n",
       "\n",
       "       refugee_population  migrant_population_percent_of_total_population  \\\n",
       "44                   31.0                                             NaN   \n",
       "45                   31.0                                             NaN   \n",
       "46                   34.0                                             NaN   \n",
       "47                   43.0                                             NaN   \n",
       "48                   37.0                                             NaN   \n",
       "...                   ...                                             ...   \n",
       "12343              7795.0                                             NaN   \n",
       "12344              8956.0                                             NaN   \n",
       "12345              9261.0                                             NaN   \n",
       "12346              9483.0                                             NaN   \n",
       "12347             10475.0                                             NaN   \n",
       "\n",
       "       population_growth_percent  \n",
       "44                          3.93  \n",
       "45                          3.58  \n",
       "46                          4.14  \n",
       "47                          1.79  \n",
       "48                          2.00  \n",
       "...                          ...  \n",
       "12343                       2.02  \n",
       "12344                       1.99  \n",
       "12345                       2.03  \n",
       "12346                       2.05  \n",
       "12347                       2.02  \n",
       "\n",
       "[3724 rows x 15 columns]"
      ]
     },
     "execution_count": 15,
     "metadata": {},
     "output_type": "execute_result"
    }
   ],
   "source": [
    "demography = demography.loc[demography['year']>=2004]\n",
    "demography"
   ]
  },
  {
   "cell_type": "code",
   "execution_count": 28,
   "id": "afdf3061-b8fa-45af-b794-5bf00f766363",
   "metadata": {},
   "outputs": [
    {
     "data": {
      "text/plain": [
       "country                                                         0\n",
       "code                                                            0\n",
       "continentcode                                                 456\n",
       "year                                                            0\n",
       "population_size_in_millions                                     0\n",
       "percent_urban_population                                        0\n",
       "population_density_people_per_square_km                       200\n",
       "population_ages_65_and_above_percent_of_total                   0\n",
       "population_ages_0-14-percent_of_total                           0\n",
       "pemale_population_percent_of_total                              0\n",
       "rural_population_percent_of_total_population                    0\n",
       "dependent_people_as_percent_of_the_working_age_population       0\n",
       "refugee_population                                            774\n",
       "migrant_population_percent_of_total_population               3216\n",
       "population_growth_percent                                       1\n",
       "dtype: int64"
      ]
     },
     "execution_count": 28,
     "metadata": {},
     "output_type": "execute_result"
    }
   ],
   "source": [
    "demography.isnull().sum()"
   ]
  },
  {
   "cell_type": "code",
   "execution_count": 52,
   "id": "0bcb26a4-cf11-4b62-9c34-1c3273e38c9f",
   "metadata": {},
   "outputs": [],
   "source": [
    "demography.to_csv('./global_economy/demography.csv')"
   ]
  },
  {
   "cell_type": "code",
   "execution_count": 17,
   "id": "652861a8-49fe-4a3d-b73b-bed1462d1656",
   "metadata": {},
   "outputs": [],
   "source": [
    "economic_freedom_indexes.columns = ['country', 'code', 'continentcode', 'year',\n",
    "       'property_rights_index',\n",
    "       'freedom_from corruption_index', 'fiscal_freedom_index',\n",
    "       'business_freedom_index', 'labor_freedom_index',\n",
    "       'monetary_freedom_index', 'trade_freedom_index',\n",
    "       'investment_freedom_index', 'financial_freedom_index',\n",
    "       'economic_freedom_overall_index']"
   ]
  },
  {
   "cell_type": "code",
   "execution_count": 19,
   "id": "6908a5d0-a65b-4c93-a05e-e153cd8b77eb",
   "metadata": {},
   "outputs": [
    {
     "data": {
      "text/plain": [
       "array([2013, 2014, 2015, 2016, 2017, 2018, 2019, 2020, 2021, 2023, 1995,\n",
       "       1996, 1997, 1998, 1999, 2000, 2001, 2002, 2003, 2004, 2005, 2006,\n",
       "       2007, 2008, 2009, 2010, 2011, 2012, 2022])"
      ]
     },
     "execution_count": 19,
     "metadata": {},
     "output_type": "execute_result"
    }
   ],
   "source": [
    "economic_freedom_indexes['year'].unique()"
   ]
  },
  {
   "cell_type": "code",
   "execution_count": 27,
   "id": "a1cb48ec-c1e2-4a25-829b-63e35379dbc1",
   "metadata": {},
   "outputs": [
    {
     "data": {
      "text/plain": [
       "country                              0\n",
       "code                                 0\n",
       "continentcode                      535\n",
       "year                                 0\n",
       "property_rights_index               30\n",
       "freedom_from corruption_index       13\n",
       "fiscal_freedom_index               101\n",
       "business_freedom_index              26\n",
       "labor_freedom_index               1521\n",
       "monetary_freedom_index              29\n",
       "trade_freedom_index                 82\n",
       "investment_freedom_index           117\n",
       "financial_freedom_index             69\n",
       "economic_freedom_overall_index      68\n",
       "dtype: int64"
      ]
     },
     "execution_count": 27,
     "metadata": {},
     "output_type": "execute_result"
    }
   ],
   "source": [
    "economic_freedom_indexes.isnull().sum()"
   ]
  },
  {
   "cell_type": "code",
   "execution_count": 53,
   "id": "94f2d826-0d6e-4f90-a358-a948b94f4648",
   "metadata": {},
   "outputs": [],
   "source": [
    "economic_freedom_indexes.to_csv('./global_economy/economic_freedom_indexes.csv')"
   ]
  },
  {
   "cell_type": "code",
   "execution_count": 22,
   "id": "cb568f66-ffd9-43ce-936e-9443ac7d81fa",
   "metadata": {},
   "outputs": [],
   "source": [
    "gdp_and_economic_growth.columns = ['country', 'code', 'continentcode', 'year',\n",
    "       'economic_growth_rate_of_change_of_real_gdp',\n",
    "       'gross_domestic_product_billions_of_2010_us_dollars',\n",
    "       'gross_domestic_product_billions_of_us_dollars',\n",
    "       'gdp_per_capita_current_us_dollars',\n",
    "       'gdp_per_capita_purchasing_power_parity',\n",
    "       'gdp_per_capita constant_2010_dollars',\n",
    "       'gdp_per_hour_worked_index_relative_to_us',\n",
    "       'gdp_per_hour_worked_in_current_usd_ppp_adjusted']"
   ]
  },
  {
   "cell_type": "code",
   "execution_count": 25,
   "id": "486ee26b-bbdc-415a-b2ff-274a384c48d7",
   "metadata": {},
   "outputs": [],
   "source": [
    "gdp_and_economic_growth = gdp_and_economic_growth.loc[gdp_and_economic_growth['year']>=2004]"
   ]
  },
  {
   "cell_type": "code",
   "execution_count": 26,
   "id": "4d0b3b8f-5ff8-40d4-8da7-6ad63efef526",
   "metadata": {},
   "outputs": [
    {
     "data": {
      "text/plain": [
       "country                                                  0\n",
       "code                                                     0\n",
       "continentcode                                          456\n",
       "year                                                     0\n",
       "economic_growth_rate_of_change_of_real_gdp              46\n",
       "gross_domestic_product_billions_of_2010_us_dollars      63\n",
       "gross_domestic_product_billions_of_us_dollars            4\n",
       "gdp_per_capita_current_us_dollars                        0\n",
       "gdp_per_capita_purchasing_power_parity                 159\n",
       "gdp_per_capita constant_2010_dollars                    59\n",
       "gdp_per_hour_worked_index_relative_to_us              2919\n",
       "gdp_per_hour_worked_in_current_usd_ppp_adjusted       2919\n",
       "dtype: int64"
      ]
     },
     "execution_count": 26,
     "metadata": {},
     "output_type": "execute_result"
    }
   ],
   "source": [
    "gdp_and_economic_growth.isnull().sum()"
   ]
  },
  {
   "cell_type": "code",
   "execution_count": 54,
   "id": "4a0a7a2e-65c9-4316-ad68-e894db7d0b4a",
   "metadata": {},
   "outputs": [],
   "source": [
    "gdp_and_economic_growth.to_csv('./global_economy/gdp_and_economic_growth.csv')"
   ]
  },
  {
   "cell_type": "code",
   "execution_count": 32,
   "id": "aaa0cf6d-b1dc-48dc-a764-4936e41f3e1f",
   "metadata": {},
   "outputs": [],
   "source": [
    "government_and_business_environement.columns = ['country', 'code', 'ontinentcode', 'year',\n",
    "       'rule_of_law',\n",
    "       'government_effectiveness',\n",
    "       'control_of_corruption',\n",
    "       'regulatory_quality',\n",
    "       'voice_and_accountability',\n",
    "       'political_stability',\n",
    "       'corruption_perceptions',\n",
    "       'political_rights',\n",
    "       'civil_liberties',\n",
    "       'competitiveness_world_economic_forum',\n",
    "       'cost_of_starting_a_business_percent_of_income_per_capita',\n",
    "       'shadow_economy_percent_of_dgp', 'informal_economy_mimic_method',\n",
    "       'informal_economy_dge_method']"
   ]
  },
  {
   "cell_type": "code",
   "execution_count": 35,
   "id": "41dc6ff3-1a18-424e-8f9f-c27292b574ab",
   "metadata": {},
   "outputs": [],
   "source": [
    "government_and_business_environement = government_and_business_environement.loc[government_and_business_environement['year']>=2004]"
   ]
  },
  {
   "cell_type": "code",
   "execution_count": 36,
   "id": "84dbf5c0-cc63-45bd-bb18-ef9f976491c1",
   "metadata": {},
   "outputs": [
    {
     "data": {
      "text/plain": [
       "country                                                        0\n",
       "code                                                           0\n",
       "ontinentcode                                                 497\n",
       "year                                                           0\n",
       "rule_of_law                                                  238\n",
       "government_effectiveness                                     263\n",
       "control_of_corruption                                        262\n",
       "regulatory_quality                                           263\n",
       "voice_and_accountability                                     245\n",
       "political_stability                                          238\n",
       "corruption_perceptions                                       740\n",
       "political_rights                                             128\n",
       "civil_liberties                                              128\n",
       "competitiveness_world_economic_forum                        3623\n",
       "cost_of_starting_a_business_percent_of_income_per_capita    1144\n",
       "shadow_economy_percent_of_dgp                               2007\n",
       "informal_economy_mimic_method                               1217\n",
       "informal_economy_dge_method                                 1251\n",
       "dtype: int64"
      ]
     },
     "execution_count": 36,
     "metadata": {},
     "output_type": "execute_result"
    }
   ],
   "source": [
    "government_and_business_environement.isnull().sum()"
   ]
  },
  {
   "cell_type": "code",
   "execution_count": 55,
   "id": "e816486a-1815-4874-b661-98bd4d24f821",
   "metadata": {},
   "outputs": [],
   "source": [
    "government_and_business_environement.to_csv('./global_economy/government_and_business_environement.csv')"
   ]
  },
  {
   "cell_type": "code",
   "execution_count": 40,
   "id": "3c2bc5d4-a1fe-4541-8043-1d71849dbda6",
   "metadata": {},
   "outputs": [],
   "source": [
    "political_system.columns = ['country', 'code', 'continentcode', 'year', 'electoral_democracy_index',\n",
    "       'liberal_democracy_index ', 'participatory_democracy_index',\n",
    "       'deliberative_democracy_index ', 'egalitarian_democracy_index ',\n",
    "       'government_accountability', 'freedom_of_expression',\n",
    "       'political_corruption_index', 'women_political_empowerment_index',\n",
    "       'academic_freedom_index', 'year_of_presidential_elections',\n",
    "       'years_of_parliamentary_elections']"
   ]
  },
  {
   "cell_type": "code",
   "execution_count": 42,
   "id": "0689b4ae-0b6e-460d-8823-ea8066a149e4",
   "metadata": {},
   "outputs": [],
   "source": [
    "political_system = political_system.loc[political_system['year']>=2004]"
   ]
  },
  {
   "cell_type": "code",
   "execution_count": 44,
   "id": "6d8db96f-23af-4718-a182-4251a33bd32b",
   "metadata": {},
   "outputs": [
    {
     "data": {
      "text/plain": [
       "country                                 0\n",
       "code                                    0\n",
       "continentcode                         266\n",
       "year                                    0\n",
       "electoral_democracy_index               0\n",
       "liberal_democracy_index                 0\n",
       "participatory_democracy_index           0\n",
       "deliberative_democracy_index            0\n",
       "egalitarian_democracy_index             0\n",
       "government_accountability               0\n",
       "freedom_of_expression                   0\n",
       "political_corruption_index              1\n",
       "women_political_empowerment_index       5\n",
       "academic_freedom_index                 14\n",
       "year_of_presidential_elections       1064\n",
       "years_of_parliamentary_elections        0\n",
       "dtype: int64"
      ]
     },
     "execution_count": 44,
     "metadata": {},
     "output_type": "execute_result"
    }
   ],
   "source": [
    "political_system.isnull().sum()"
   ]
  },
  {
   "cell_type": "code",
   "execution_count": 56,
   "id": "0fa464f9-b999-4d1a-af85-971b6715f161",
   "metadata": {},
   "outputs": [],
   "source": [
    "political_system.to_csv('./global_economy/political_system.csv')"
   ]
  },
  {
   "cell_type": "code",
   "execution_count": 47,
   "id": "fb6b2d45-9ab1-406b-8efc-22a7c28871bf",
   "metadata": {},
   "outputs": [],
   "source": [
    "shares_of_world_totals.columns = ['country', 'code', 'continentcode', 'year',\n",
    "       'percent_of_world_population', 'percent_of_world_gdp',\n",
    "       'percent_of_world_exports', 'percent_of_world_imports',\n",
    "       'percent_of_world_foreign_direct_investment',\n",
    "       'percent_of_world_oil_reserves']"
   ]
  },
  {
   "cell_type": "code",
   "execution_count": 49,
   "id": "660db8a8-13b5-4df4-9440-4ebe94ba6c83",
   "metadata": {},
   "outputs": [],
   "source": [
    "shares_of_world_totals = shares_of_world_totals[shares_of_world_totals['year']>=2004]"
   ]
  },
  {
   "cell_type": "code",
   "execution_count": 51,
   "id": "df8a5d45-8398-4546-95bc-feab3a8d89ba",
   "metadata": {},
   "outputs": [
    {
     "data": {
      "text/plain": [
       "country                                         0\n",
       "code                                            0\n",
       "continentcode                                 468\n",
       "year                                            0\n",
       "percent_of_world_population                    54\n",
       "percent_of_world_gdp                          119\n",
       "percent_of_world_exports                      553\n",
       "percent_of_world_imports                      553\n",
       "percent_of_world_foreign_direct_investment    196\n",
       "percent_of_world_oil_reserves                 218\n",
       "dtype: int64"
      ]
     },
     "execution_count": 51,
     "metadata": {},
     "output_type": "execute_result"
    }
   ],
   "source": [
    "shares_of_world_totals.isnull().sum()"
   ]
  },
  {
   "cell_type": "code",
   "execution_count": 58,
   "id": "77cd2eb8-5842-456f-b768-4a0fb5e17397",
   "metadata": {},
   "outputs": [],
   "source": [
    "shares_of_world_totals.to_csv('./global_economy/shares_of_world_totals.csv')"
   ]
  },
  {
   "cell_type": "code",
   "execution_count": null,
   "id": "7f1b7848-9a6f-49b1-b8f0-2bbbd87a2d26",
   "metadata": {},
   "outputs": [],
   "source": []
  }
 ],
 "metadata": {
  "kernelspec": {
   "display_name": "Python 3 (ipykernel)",
   "language": "python",
   "name": "python3"
  },
  "language_info": {
   "codemirror_mode": {
    "name": "ipython",
    "version": 3
   },
   "file_extension": ".py",
   "mimetype": "text/x-python",
   "name": "python",
   "nbconvert_exporter": "python",
   "pygments_lexer": "ipython3",
   "version": "3.11.5"
  }
 },
 "nbformat": 4,
 "nbformat_minor": 5
}
